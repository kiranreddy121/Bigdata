{
 "cells": [
  {
   "cell_type": "code",
   "execution_count": 1,
   "id": "8eb44704-a3b1-48f1-a221-4c3d0c7e86c0",
   "metadata": {},
   "outputs": [],
   "source": [
    "from pyspark.sql import SparkSession"
   ]
  },
  {
   "cell_type": "code",
   "execution_count": 2,
   "id": "a98032aa-c281-4f9a-aacf-a08d86b68f5c",
   "metadata": {},
   "outputs": [
    {
     "name": "stderr",
     "output_type": "stream",
     "text": [
      "24/11/18 15:47:41 WARN Utils: Your hostname, Mahajans-MacBook-Pro.local resolves to a loopback address: 127.0.0.1; using 10.250.5.24 instead (on interface en0)\n",
      "24/11/18 15:47:41 WARN Utils: Set SPARK_LOCAL_IP if you need to bind to another address\n",
      "Setting default log level to \"WARN\".\n",
      "To adjust logging level use sc.setLogLevel(newLevel). For SparkR, use setLogLevel(newLevel).\n",
      "24/11/18 15:47:42 WARN NativeCodeLoader: Unable to load native-hadoop library for your platform... using builtin-java classes where applicable\n"
     ]
    }
   ],
   "source": [
    "#creating the spark session\n",
    "spark = SparkSession.builder.appName(\"AmazonApperalAnalysis\").getOrCreate() "
   ]
  },
  {
   "cell_type": "code",
   "execution_count": 3,
   "id": "8ee32014-fec1-48d6-bbfb-5688060daa6b",
   "metadata": {},
   "outputs": [
    {
     "name": "stderr",
     "output_type": "stream",
     "text": [
      "                                                                                \r"
     ]
    }
   ],
   "source": [
    "#now loading the dataset into the DataFrame\n",
    "data = spark.read.csv(\"/Users/pallavmahajan/Downloads/DATA-228_Big_Data/Project/amazon_reviews_us_Apparel_v1_00.tsv\", sep=\"\\t\", header=True, inferSchema=True)"
   ]
  },
  {
   "cell_type": "code",
   "execution_count": 4,
   "id": "e2fa030d-a332-4c2f-8280-532a7f4571b0",
   "metadata": {},
   "outputs": [
    {
     "name": "stdout",
     "output_type": "stream",
     "text": [
      "root\n",
      " |-- marketplace: string (nullable = true)\n",
      " |-- customer_id: integer (nullable = true)\n",
      " |-- review_id: string (nullable = true)\n",
      " |-- product_id: string (nullable = true)\n",
      " |-- product_parent: integer (nullable = true)\n",
      " |-- product_title: string (nullable = true)\n",
      " |-- product_category: string (nullable = true)\n",
      " |-- star_rating: integer (nullable = true)\n",
      " |-- helpful_votes: integer (nullable = true)\n",
      " |-- total_votes: integer (nullable = true)\n",
      " |-- vine: string (nullable = true)\n",
      " |-- verified_purchase: string (nullable = true)\n",
      " |-- review_headline: string (nullable = true)\n",
      " |-- review_body: string (nullable = true)\n",
      " |-- review_date: date (nullable = true)\n",
      "\n"
     ]
    }
   ],
   "source": [
    "data.printSchema()"
   ]
  },
  {
   "cell_type": "code",
   "execution_count": 5,
   "id": "67e0a8b1-83f8-4637-a4b1-c18d4daad6ba",
   "metadata": {},
   "outputs": [
    {
     "name": "stdout",
     "output_type": "stream",
     "text": [
      "+-----------+-----------+--------------+----------+--------------+--------------------+----------------+-----------+-------------+-----------+----+-----------------+--------------------+--------------------+-----------+\n",
      "|marketplace|customer_id|     review_id|product_id|product_parent|       product_title|product_category|star_rating|helpful_votes|total_votes|vine|verified_purchase|     review_headline|         review_body|review_date|\n",
      "+-----------+-----------+--------------+----------+--------------+--------------------+----------------+-----------+-------------+-----------+----+-----------------+--------------------+--------------------+-----------+\n",
      "|         US|   32158956|R1KKOXHNI8MSXU|B01KL6O72Y|      24485154|Easy Tool Stainle...|         Apparel|          4|            0|          0|   N|                Y|★ THESE REALLY DO...|These Really Do W...| 2013-01-14|\n",
      "|         US|    2714559|R26SP2OPDK4HT7|B01ID3ZS5W|     363128556|V28 Women Cowl Ne...|         Apparel|          5|            1|          2|   N|                Y|Favorite for wint...|I love this dress...| 2014-03-04|\n",
      "|         US|   12608825| RWQEDYAX373I1|B01I497BGY|     811958549|James Fiallo Men'...|         Apparel|          5|            0|          0|   N|                Y|Great Socks for t...|Nice socks, great...| 2015-07-12|\n",
      "|         US|   25482800|R231YI7R4GPF6J|B01HDXFZK6|     692205728|Belfry Gangster 1...|         Apparel|          5|            0|          0|   N|                Y|          Slick hat!|I bought this for...| 2015-06-03|\n",
      "|         US|    9310286|R3KO3W45DD0L1K|B01G6MBEBY|     431150422|JAEDEN Women's Be...|         Apparel|          5|            0|          0|   N|                Y|I would do it again!|Perfect dress and...| 2015-06-12|\n",
      "|         US|   26631939|R1C4QH63NFL5NJ|B01FWRXN0Y|     366144407|Levi's Boys' 514 ...|         Apparel|          5|            0|          0|   N|                Y|          Five Stars|Excellent for my ...| 2014-04-22|\n",
      "|         US|   48785098|R2GP65O1U9N7BP|B01EXNH1HE|     786052021|Minimalist Wallet...|         Apparel|          5|            0|          0|   N|                Y|            Love it!|Raw is the only w...| 2015-07-28|\n",
      "|         US|   39548589|R3O29CT5MQQ3XQ|B01E7OL09O|     108920964|Harriton Men's Ba...|         Apparel|          4|            0|          0|   N|                Y|         Three Stars|        A bit large.| 2015-07-10|\n",
      "|         US|   29355866|R1ZECD2AA8QFF6|B01DXHX81O|     317132458|Jockey Women's Un...|         Apparel|          5|            0|          0|   N|                Y|          Five Stars|          Great fit!| 2015-08-09|\n",
      "|         US|   27477484|R2S79GCF6J89OA|B01DDULIJK|     110598191|Alexander Del Ros...|         Apparel|          3|            0|          0|   N|                Y|    Not my favorite.|Shirt a bit too l...| 2014-05-24|\n",
      "+-----------+-----------+--------------+----------+--------------+--------------------+----------------+-----------+-------------+-----------+----+-----------------+--------------------+--------------------+-----------+\n",
      "only showing top 10 rows\n",
      "\n"
     ]
    }
   ],
   "source": [
    "data.show(10)"
   ]
  },
  {
   "cell_type": "code",
   "execution_count": 6,
   "id": "52e2c719-7830-45bd-85fd-09eb52878941",
   "metadata": {},
   "outputs": [
    {
     "name": "stderr",
     "output_type": "stream",
     "text": [
      "[Stage 3:==================================>                       (9 + 6) / 15]\r"
     ]
    },
    {
     "name": "stdout",
     "output_type": "stream",
     "text": [
      "Total Rows: 5906333\n"
     ]
    },
    {
     "name": "stderr",
     "output_type": "stream",
     "text": [
      "                                                                                \r"
     ]
    }
   ],
   "source": [
    "#counting the total rows\n",
    "total_rows = data.count()\n",
    "print(f\"Total Rows: {total_rows}\")"
   ]
  },
  {
   "cell_type": "code",
   "execution_count": 7,
   "id": "a61ba951-39bb-4c24-af39-f7482c495846",
   "metadata": {},
   "outputs": [
    {
     "name": "stderr",
     "output_type": "stream",
     "text": [
      "                                                                                \r"
     ]
    },
    {
     "name": "stdout",
     "output_type": "stream",
     "text": [
      "+-------+-----------+----------+-----------+\n",
      "|summary|customer_id|product_id|star_rating|\n",
      "+-------+-----------+----------+-----------+\n",
      "|  count|    5906333|   5906333|    5906333|\n",
      "+-------+-----------+----------+-----------+\n",
      "\n"
     ]
    }
   ],
   "source": [
    "#checking the missing values\n",
    "data.select([((data[col].isNull()).cast(\"int\").alias(col)) for col in [\"customer_id\", \"product_id\", \"star_rating\"]]).summary(\"count\").show()"
   ]
  },
  {
   "cell_type": "code",
   "execution_count": 10,
   "id": "8d9edde7-89db-4a79-8412-58af937976ea",
   "metadata": {},
   "outputs": [],
   "source": [
    "#cleaning the data\n",
    "cleaned_data = data.dropna(subset=[\"customer_id\", \"product_id\", \"star_rating\"])"
   ]
  },
  {
   "cell_type": "code",
   "execution_count": 11,
   "id": "edeab7f4-1b2b-42db-90a2-dfbc2a0f307a",
   "metadata": {},
   "outputs": [
    {
     "name": "stderr",
     "output_type": "stream",
     "text": [
      "[Stage 9:==================================>                       (9 + 6) / 15]\r"
     ]
    },
    {
     "name": "stdout",
     "output_type": "stream",
     "text": [
      "Rows after cleaning: 5906322\n"
     ]
    },
    {
     "name": "stderr",
     "output_type": "stream",
     "text": [
      "                                                                                \r"
     ]
    }
   ],
   "source": [
    "cleaned_rows = cleaned_data.count()\n",
    "print(f\"Rows after cleaning: {cleaned_rows}\")"
   ]
  },
  {
   "cell_type": "code",
   "execution_count": 12,
   "id": "31bca658-00e2-4e3d-8642-061a870b4641",
   "metadata": {},
   "outputs": [
    {
     "name": "stderr",
     "output_type": "stream",
     "text": [
      "24/11/18 15:59:54 WARN SparkSession: Using an existing Spark session; only runtime SQL configurations will take effect.\n",
      "[Stage 14:============================================>           (12 + 3) / 15]\r"
     ]
    },
    {
     "name": "stdout",
     "output_type": "stream",
     "text": [
      "Updated dataset saved at: /Users/pallavmahajan/Downloads/DATA-228_Big_Data/Project/updated_amazon_apparel.csv\n"
     ]
    },
    {
     "name": "stderr",
     "output_type": "stream",
     "text": [
      "                                                                                \r"
     ]
    }
   ],
   "source": [
    "#creating new features and updating the csv\n",
    "from pyspark.sql import SparkSession\n",
    "from pyspark.sql.functions import when, col\n",
    "\n",
    "# Step 1: Creating Spark session and load dataset\n",
    "spark = SparkSession.builder.appName(\"FeatureEngineering\").getOrCreate()\n",
    "data = spark.read.csv(\"/Users/pallavmahajan/Downloads/DATA-228_Big_Data/Project/amazon_reviews_us_Apparel_v1_00.tsv\", sep=\"\\t\", header=True, inferSchema=True)\n",
    "\n",
    "# Step 2: Adding demographic_group column\n",
    "data = data.withColumn(\"demographic_group\",\n",
    "    when(col(\"product_title\").rlike(\"Men|Men's\"), \"Men\")\n",
    "    .when(col(\"product_title\").rlike(\"Women|Women's\"), \"Women\")\n",
    "    .when(col(\"product_title\").rlike(\"Kids|Children\"), \"Children\")\n",
    "    .otherwise(\"Uncategorized\")\n",
    ")\n",
    "\n",
    "# Step 3: Adding apparel_section column\n",
    "data = data.withColumn(\"apparel_section\",\n",
    "    when(col(\"product_title\").rlike(\"Shirt|Outerwear\"), \"Shirts/Outerwear\")\n",
    "    .when(col(\"product_title\").rlike(\"Pants|Jeans\"), \"Pants/Bottoms\")\n",
    "    .when(col(\"product_title\").rlike(\"Footwear|Shoes\"), \"Footwear\")\n",
    "    .when(col(\"product_title\").rlike(\"Accessories|Hats\"), \"Accessories\")\n",
    "    .otherwise(\"Other\")\n",
    ")\n",
    "\n",
    "# Step 4: Saving the updated dataset as a new CSV file\n",
    "output_path = \"/Users/pallavmahajan/Downloads/DATA-228_Big_Data/Project/updated_amazon_apparel.csv\"\n",
    "data.write.csv(output_path, header=True)\n",
    "\n",
    "print(f\"Updated dataset saved at: {output_path}\")"
   ]
  },
  {
   "cell_type": "code",
   "execution_count": 13,
   "id": "2065b66b-03b6-4e1b-aafe-3680707d423d",
   "metadata": {},
   "outputs": [
    {
     "name": "stderr",
     "output_type": "stream",
     "text": [
      "[Stage 15:>                                                         (0 + 1) / 1]\r"
     ]
    },
    {
     "name": "stdout",
     "output_type": "stream",
     "text": [
      "Combined single CSV saved!\n"
     ]
    },
    {
     "name": "stderr",
     "output_type": "stream",
     "text": [
      "                                                                                \r"
     ]
    }
   ],
   "source": [
    "# Combine all partitions into one\n",
    "data.coalesce(1).write.csv(\"/Users/pallavmahajan/Downloads/DATA-228_Big_Data/Project/single_updated_amazon_apparel.csv\", header=True)\n",
    "\n",
    "print(\"Combined single CSV saved!\")"
   ]
  },
  {
   "cell_type": "code",
   "execution_count": 14,
   "id": "0f997e03-bfa3-4d1c-aa06-93d8d644ee24",
   "metadata": {},
   "outputs": [
    {
     "name": "stderr",
     "output_type": "stream",
     "text": [
      "                                                                                \r"
     ]
    },
    {
     "name": "stdout",
     "output_type": "stream",
     "text": [
      "+--------------+\n",
      "|word          |\n",
      "+--------------+\n",
      "|unlined       |\n",
      "|pant          |\n",
      "|travel        |\n",
      "|jewelry       |\n",
      "|newlywed      |\n",
      "|tmnt          |\n",
      "|lady's        |\n",
      "|outfit        |\n",
      "|art           |\n",
      "|hope          |\n",
      "|activewear    |\n",
      "|gandalf's     |\n",
      "|(sports       |\n",
      "|minions'      |\n",
      "|3x            |\n",
      "|garters       |\n",
      "|(xxl)         |\n",
      "|“imagine”     |\n",
      "|anime         |\n",
      "|pain/recovery,|\n",
      "+--------------+\n",
      "only showing top 20 rows\n",
      "\n"
     ]
    },
    {
     "name": "stderr",
     "output_type": "stream",
     "text": [
      "                                                                                \r"
     ]
    },
    {
     "name": "stdout",
     "output_type": "stream",
     "text": [
      "Unique words saved to unique_words.txt\n"
     ]
    }
   ],
   "source": [
    "from pyspark.sql.functions import split, explode, lower, col\n",
    "from pyspark.ml.feature import StopWordsRemover\n",
    "import pandas as pd\n",
    "\n",
    "# Tokenize product titles into words\n",
    "data = data.withColumn(\"words\", split(lower(col(\"product_title\")), \"\\\\s+\"))\n",
    "\n",
    "# Explode the list of words into individual rows\n",
    "words_df = data.select(explode(col(\"words\")).alias(\"word\"))\n",
    "\n",
    "# Remove duplicates and filter out stopwords\n",
    "stopwords = StopWordsRemover().getStopWords()\n",
    "unique_words = words_df.filter(~col(\"word\").isin(stopwords)).distinct()\n",
    "\n",
    "# Show sample unique words\n",
    "unique_words.show(20, truncate=False)\n",
    "\n",
    "# Save unique words to a text file\n",
    "words_list = unique_words.collect()  # Collect as a list\n",
    "with open(\"unique_words.txt\", \"w\") as f:\n",
    "    for row in words_list:\n",
    "        f.write(row[\"word\"] + \"\\n\")\n",
    "\n",
    "print(\"Unique words saved to unique_words.txt\")"
   ]
  },
  {
   "cell_type": "code",
   "execution_count": 16,
   "id": "7f16d81e-cf9c-4002-94a4-ef413dc382c5",
   "metadata": {},
   "outputs": [
    {
     "name": "stdout",
     "output_type": "stream",
     "text": [
      "Categorization complete: refined_demographics.txt, refined_apparel_sections.txt, irrelevant_keywords.txt created.\n"
     ]
    }
   ],
   "source": [
    "# Load the file\n",
    "with open(\"unique_words.txt\", \"r\") as file:\n",
    "    words = [line.strip() for line in file]\n",
    "\n",
    "# Initialize empty lists for categories\n",
    "demographics_keywords = []\n",
    "apparel_keywords = []\n",
    "irrelevant_keywords = []\n",
    "\n",
    "# Define demographics patterns (e.g., genders, age groups)\n",
    "demographics_patterns = [\"men\", \"women\", \"ladies\", \"kids\", \"children\", \"girls\", \"boys\", \"baby\", \"infant\"]\n",
    "\n",
    "# Define apparel-related patterns\n",
    "apparel_patterns = [\"shirt\", \"pants\", \"jeans\", \"jacket\", \"shoes\", \"dress\", \"skirt\", \"t-shirt\", \"sweater\"]\n",
    "\n",
    "# Categorize words\n",
    "for word in words:\n",
    "    word_lower = word.lower()\n",
    "    if any(pattern in word_lower for pattern in demographics_patterns):\n",
    "        demographics_keywords.append(word)\n",
    "    elif any(pattern in word_lower for pattern in apparel_patterns):\n",
    "        apparel_keywords.append(word)\n",
    "    else:\n",
    "        irrelevant_keywords.append(word)\n",
    "\n",
    "# Save categorized words into separate files\n",
    "with open(\"refined_demographics.txt\", \"w\") as f:\n",
    "    for word in demographics_keywords:\n",
    "        f.write(word + \"\\n\")\n",
    "\n",
    "with open(\"refined_apparel_sections.txt\", \"w\") as f:\n",
    "    for word in apparel_keywords:\n",
    "        f.write(word + \"\\n\")\n",
    "\n",
    "with open(\"irrelevant_keywords.txt\", \"w\") as f:\n",
    "    for word in irrelevant_keywords:\n",
    "        f.write(word + \"\\n\")\n",
    "\n",
    "print(\"Categorization complete: refined_demographics.txt, refined_apparel_sections.txt, irrelevant_keywords.txt created.\")"
   ]
  },
  {
   "cell_type": "code",
   "execution_count": 20,
   "id": "f2bb7424-0834-4760-a705-d16d83f9e468",
   "metadata": {},
   "outputs": [],
   "source": [
    "# Split keywords into smaller chunks\n",
    "def chunk_keywords(keywords, chunk_size):\n",
    "    for i in range(0, len(keywords), chunk_size):\n",
    "        yield keywords[i:i + chunk_size]\n",
    "\n",
    "# Apply chunked matching\n",
    "def match_patterns(column, keywords):\n",
    "    chunks = list(chunk_keywords(keywords, 100))  # Split into chunks of 100\n",
    "    conditions = [col(column).rlike(\"|\".join(chunk)) for chunk in chunks]\n",
    "    return when(conditions[0], lit(\"Matched\")).otherwise(\"Other\")\n",
    "\n",
    "# Apply chunked logic for demographics\n",
    "data = data.withColumn(\n",
    "    \"demographic_group\",\n",
    "    match_patterns(\"product_title\", demographics_keywords)\n",
    ")\n",
    "\n",
    "# Apply chunked logic for apparel sections\n",
    "data = data.withColumn(\n",
    "    \"apparel_section\",\n",
    "    match_patterns(\"product_title\", apparel_keywords)\n",
    ")"
   ]
  },
  {
   "cell_type": "code",
   "execution_count": 24,
   "id": "60dcad3f-d190-43b9-a938-a26af66d6763",
   "metadata": {},
   "outputs": [],
   "source": [
    "# Replace `column_name` with the actual column you want to process\n",
    "data = data.withColumn(\"product_title\", regexp_replace(col(\"product_title\"), r\"\\(|\\)\", \"\"))"
   ]
  },
  {
   "cell_type": "code",
   "execution_count": 25,
   "id": "5e61a35f-9247-4e13-a86d-55ce132cccbe",
   "metadata": {},
   "outputs": [
    {
     "name": "stdout",
     "output_type": "stream",
     "text": [
      "root\n",
      " |-- marketplace: string (nullable = true)\n",
      " |-- customer_id: integer (nullable = true)\n",
      " |-- review_id: string (nullable = true)\n",
      " |-- product_id: string (nullable = true)\n",
      " |-- product_parent: integer (nullable = true)\n",
      " |-- product_title: string (nullable = true)\n",
      " |-- product_category: string (nullable = true)\n",
      " |-- star_rating: integer (nullable = true)\n",
      " |-- helpful_votes: integer (nullable = true)\n",
      " |-- total_votes: integer (nullable = true)\n",
      " |-- vine: string (nullable = true)\n",
      " |-- verified_purchase: string (nullable = true)\n",
      " |-- review_headline: string (nullable = true)\n",
      " |-- review_body: string (nullable = true)\n",
      " |-- review_date: date (nullable = true)\n",
      " |-- demographic_group: string (nullable = false)\n",
      " |-- apparel_section: string (nullable = false)\n",
      "\n"
     ]
    }
   ],
   "source": [
    "data.printSchema()\n"
   ]
  },
  {
   "cell_type": "code",
   "execution_count": 26,
   "id": "60bb3466-4492-49f9-9494-0aa2bec607e6",
   "metadata": {},
   "outputs": [],
   "source": [
    "from pyspark.sql.functions import regexp_replace\n",
    "\n",
    "# Example for multiple columns\n",
    "columns_to_process = [\"product_title\", \"review_body\"]\n",
    "for col_name in columns_to_process:\n",
    "    if col_name in data.columns:\n",
    "        data = data.withColumn(col_name, regexp_replace(col(col_name), r\"\\(|\\)\", \"\"))"
   ]
  },
  {
   "cell_type": "code",
   "execution_count": 27,
   "id": "fc12af9e-45b4-4f5e-8fdd-2680fae2bdbd",
   "metadata": {},
   "outputs": [
    {
     "name": "stdout",
     "output_type": "stream",
     "text": [
      "['marketplace', 'customer_id', 'review_id', 'product_id', 'product_parent', 'product_title', 'product_category', 'star_rating', 'helpful_votes', 'total_votes', 'vine', 'verified_purchase', 'review_headline', 'review_body', 'review_date', 'demographic_group', 'apparel_section']\n"
     ]
    }
   ],
   "source": [
    "print(data.columns)\n"
   ]
  },
  {
   "cell_type": "code",
   "execution_count": 28,
   "id": "e7871fde-696f-4ebd-a2e6-a8ea95cc6d36",
   "metadata": {},
   "outputs": [],
   "source": [
    "from pyspark.sql.functions import regexp_replace, col\n",
    "\n",
    "# Correct column name\n",
    "data = data.withColumn(\"product_title\", regexp_replace(col(\"product_title\"), r\"\\(|\\)\", \"\"))"
   ]
  },
  {
   "cell_type": "code",
   "execution_count": 29,
   "id": "aeb5667a-c7fb-456a-9752-36a80800b936",
   "metadata": {},
   "outputs": [],
   "source": [
    "from pyspark.sql.functions import trim, lower\n",
    "data = data.withColumn(\"product_title\", trim(lower(col(\"product_title\"))))\n",
    "data = data.withColumn(\"review_body\", trim(lower(col(\"review_body\"))))"
   ]
  },
  {
   "cell_type": "code",
   "execution_count": 30,
   "id": "55aab74b-0d75-4305-a190-009bcbdb0f49",
   "metadata": {},
   "outputs": [
    {
     "name": "stderr",
     "output_type": "stream",
     "text": [
      "[Stage 32:================================>                        (9 + 7) / 16]\r"
     ]
    },
    {
     "name": "stdout",
     "output_type": "stream",
     "text": [
      "+-----------+-------+\n",
      "|star_rating|  count|\n",
      "+-----------+-------+\n",
      "|          1| 445456|\n",
      "|          3| 623471|\n",
      "|          5|3320557|\n",
      "|          4|1147237|\n",
      "|          2| 369601|\n",
      "|       NULL|     11|\n",
      "+-----------+-------+\n",
      "\n"
     ]
    },
    {
     "name": "stderr",
     "output_type": "stream",
     "text": [
      "                                                                                \r"
     ]
    }
   ],
   "source": [
    "#EDA\n",
    "data.groupBy(\"star_rating\").count().show()"
   ]
  },
  {
   "cell_type": "code",
   "execution_count": 31,
   "id": "25b2b51b-cd23-4160-9c6e-5d8e33135b38",
   "metadata": {},
   "outputs": [],
   "source": [
    "from pyspark.sql.functions import col\n",
    "\n",
    "# Select relevant columns\n",
    "final_data = data.select(\n",
    "    col(\"customer_id\").cast(\"int\"),\n",
    "    col(\"product_id\").cast(\"int\"),\n",
    "    col(\"star_rating\").cast(\"float\")\n",
    ").dropna()"
   ]
  },
  {
   "cell_type": "code",
   "execution_count": 32,
   "id": "cb83df0d-6fcf-4382-9b4a-6ef80440beb9",
   "metadata": {},
   "outputs": [
    {
     "name": "stderr",
     "output_type": "stream",
     "text": [
      "[Stage 37:==============================================>          (9 + 2) / 11]\r"
     ]
    },
    {
     "name": "stdout",
     "output_type": "stream",
     "text": [
      "+-----------+----------+-----------+\n",
      "|customer_id|product_id|star_rating|\n",
      "+-----------+----------+-----------+\n",
      "|   45924188|1933000716|        1.0|\n",
      "|   41244251|1933000716|        5.0|\n",
      "|   49704575|1848572972|        2.0|\n",
      "|   40440645|1616593989|        5.0|\n",
      "|     288347|1608325229|        3.0|\n",
      "+-----------+----------+-----------+\n",
      "only showing top 5 rows\n",
      "\n",
      "root\n",
      " |-- customer_id: integer (nullable = true)\n",
      " |-- product_id: integer (nullable = true)\n",
      " |-- star_rating: float (nullable = true)\n",
      "\n"
     ]
    },
    {
     "name": "stderr",
     "output_type": "stream",
     "text": [
      "                                                                                \r"
     ]
    }
   ],
   "source": [
    "final_data.show(5)\n",
    "final_data.printSchema()"
   ]
  },
  {
   "cell_type": "code",
   "execution_count": 34,
   "id": "24aca59a-3e0d-42c8-8eb6-e6c008326af7",
   "metadata": {},
   "outputs": [
    {
     "name": "stdout",
     "output_type": "stream",
     "text": [
      "['baby-g', 'girls(s)', 'moolecole-men', '(women)', 'women,long'] ['skirt,medium,coral', 'tee-shirt', 'dress(drs-max,blua2-2x)', 'skirt(btm-skt,lor-l)', 'skirt-sk0062'] ['unlined', 'pant', 'travel', 'jewelry', 'newlywed']\n"
     ]
    }
   ],
   "source": [
    "# Load the keywords into lists\n",
    "with open(\"refined_demographics.txt\", \"r\") as file:\n",
    "    demographics_keywords = file.read().splitlines()\n",
    "\n",
    "with open(\"refined_apparel_sections.txt\", \"r\") as file:\n",
    "    apparel_keywords = file.read().splitlines()\n",
    "\n",
    "with open(\"irrelevant_keywords.txt\", \"r\") as file:\n",
    "    irrelevant_keywords = file.read().splitlines()\n",
    "\n",
    "# Check the content of the lists\n",
    "print(demographics_keywords[:5], apparel_keywords[:5], irrelevant_keywords[:5])"
   ]
  },
  {
   "cell_type": "code",
   "execution_count": 36,
   "id": "323d211d-2a60-4ab6-afe5-05dbf5efe374",
   "metadata": {},
   "outputs": [],
   "source": [
    "from pyspark.sql.functions import col, when, lower\n",
    "import re\n",
    "\n",
    "# Escape special characters in keywords\n",
    "demographics_keywords = [re.escape(k) for k in demographics_keywords]\n",
    "apparel_keywords = [re.escape(k) for k in apparel_keywords]\n",
    "irrelevant_keywords = [re.escape(k) for k in irrelevant_keywords]\n",
    "\n",
    "# Join keywords with '|'\n",
    "demographics_condition = \"|\".join(demographics_keywords)\n",
    "apparel_condition = \"|\".join(apparel_keywords)\n",
    "irrelevant_condition = \"|\".join(irrelevant_keywords)\n",
    "\n",
    "# Add a category column\n",
    "data = data.withColumn(\n",
    "    \"category\",\n",
    "    when(col(\"product_title\").rlike(demographics_condition), \"Demographics\")\n",
    "    .when(col(\"product_title\").rlike(apparel_condition), \"Apparel\")\n",
    "    .when(col(\"product_title\").rlike(irrelevant_condition), \"Irrelevant\")\n",
    "    .otherwise(\"Other\")\n",
    ")\n"
   ]
  },
  {
   "cell_type": "code",
   "execution_count": 37,
   "id": "1a86a589-60ac-4b2a-950d-0f6f9bee1c8d",
   "metadata": {},
   "outputs": [
    {
     "name": "stderr",
     "output_type": "stream",
     "text": [
      "24/11/18 16:50:41 WARN DAGScheduler: Broadcasting large task binary with size 2.4 MiB\n"
     ]
    },
    {
     "name": "stdout",
     "output_type": "stream",
     "text": [
      "+----------------------------------------------------------------------------------+------------+\n",
      "|product_title                                                                     |category    |\n",
      "+----------------------------------------------------------------------------------+------------+\n",
      "|easy tool stainless steel fruit pineapple corer slicer peeler cut one size, sliver|Irrelevant  |\n",
      "|v28 women cowl neck knit stretchable elasticity long sleeve slim fit sweater dress|Demographics|\n",
      "|james fiallo men's 12-pairs low cut athletic sport socks                          |Demographics|\n",
      "|belfry gangster 100% wool stain-resistant crushable dress fedora in 4 colors      |Apparel     |\n",
      "|jaeden women's beaded spaghetti straps sexy long formal prom evening dresses      |Demographics|\n",
      "|levi's boys' 514 straight fit jeans                                               |Demographics|\n",
      "|minimalist wallet & credit card holder men with slim design by raw                |Demographics|\n",
      "|harriton men's barbados textured camp shirt                                       |Demographics|\n",
      "|jockey women's underwear supersoft brief - 3 pack                                 |Demographics|\n",
      "|alexander del rossa mens satin pajamas, short v-neck pj set                       |Demographics|\n",
      "|jockey women's underwear elance brief - 3 pack                                    |Demographics|\n",
      "|bali passion for comfort minimizer underwire bra                                  |Irrelevant  |\n",
      "|lilyette women's enchantment three-section unlined minimizer underwire bra        |Demographics|\n",
      "|vanity fair women's perfectly yours ravissant tailored brief panty                |Demographics|\n",
      "|warner's women's no wedgies no worries modern brief panty                         |Demographics|\n",
      "|columbia women's benton springs full-zip fleece jacket                            |Demographics|\n",
      "|robes king rk classical sleepwear mens broadcloth woven pajama set                |Demographics|\n",
      "|viv collection best selling printed brushed leggings plus size l - xxl listing 1  |Irrelevant  |\n",
      "|fruit of the loom boys' a-shirt pack of 4                                         |Demographics|\n",
      "|jockey scrubs womens maximum comfort pant                                         |Demographics|\n",
      "+----------------------------------------------------------------------------------+------------+\n",
      "only showing top 20 rows\n",
      "\n"
     ]
    },
    {
     "name": "stderr",
     "output_type": "stream",
     "text": [
      "                                                                                \r"
     ]
    }
   ],
   "source": [
    "data.select(\"product_title\", \"category\").show(20, truncate=False)"
   ]
  },
  {
   "cell_type": "code",
   "execution_count": 40,
   "id": "9a9d8789-a4af-40f8-ac26-ee9ea1e48e67",
   "metadata": {},
   "outputs": [
    {
     "name": "stderr",
     "output_type": "stream",
     "text": [
      "                                                                                \r"
     ]
    },
    {
     "name": "stdout",
     "output_type": "stream",
     "text": [
      "+------------------------------------------------------------------------------------+--------+\n",
      "|product_title                                                                       |category|\n",
      "+------------------------------------------------------------------------------------+--------+\n",
      "|Easy Tool Stainless Steel Fruit Pineapple Corer Slicer Peeler Cut (One size, sliver)|Other   |\n",
      "|V28 Women Cowl Neck Knit Stretchable Elasticity Long Sleeve Slim Fit Sweater Dress  |Other   |\n",
      "|James Fiallo Men's 12-Pairs Low Cut Athletic Sport Socks                            |Other   |\n",
      "|Belfry Gangster 100% Wool Stain-Resistant Crushable Dress Fedora in 4 Colors        |Other   |\n",
      "|JAEDEN Women's Beaded Spaghetti Straps Sexy Long Formal Prom Evening Dresses        |Other   |\n",
      "|Levi's Boys' 514 Straight Fit Jeans                                                 |Other   |\n",
      "|Minimalist Wallet & Credit Card Holder Men with Slim Design by Raw                  |Other   |\n",
      "|Harriton Men's Barbados Textured Camp Shirt                                         |Other   |\n",
      "|Jockey Women's Underwear Supersoft Brief - 3 Pack                                   |Other   |\n",
      "|Alexander Del Rossa Mens Satin Pajamas, Short V-Neck Pj Set                         |Other   |\n",
      "|Jockey Women's Underwear Elance Brief - 3 Pack                                      |Other   |\n",
      "|Bali Passion For Comfort Minimizer Underwire Bra                                    |Other   |\n",
      "|Lilyette Women's Enchantment Three-Section Unlined Minimizer Underwire Bra          |Other   |\n",
      "|Vanity Fair Women's Perfectly Yours Ravissant Tailored Brief Panty                  |Other   |\n",
      "|Warner's Women's No Wedgies No Worries Modern Brief Panty                           |Other   |\n",
      "|Columbia Women's Benton Springs Full-Zip Fleece Jacket                              |Other   |\n",
      "|Robes King RK Classical Sleepwear Mens Broadcloth Woven Pajama Set                  |Other   |\n",
      "|VIV Collection Best Selling Printed Brushed Leggings Plus Size (L - XXL) Listing 1  |Other   |\n",
      "|Fruit of the Loom Boys' A-Shirt (Pack of 4)                                         |Other   |\n",
      "|Jockey Scrubs Womens Maximum Comfort Pant                                           |Other   |\n",
      "+------------------------------------------------------------------------------------+--------+\n",
      "only showing top 20 rows\n",
      "\n"
     ]
    },
    {
     "name": "stderr",
     "output_type": "stream",
     "text": [
      "                                                                                \r"
     ]
    }
   ],
   "source": [
    "from pyspark.sql import SparkSession\n",
    "from pyspark.sql.functions import col, when, lit, rlike\n",
    "import re\n",
    "\n",
    "# Initialize Spark session\n",
    "spark = SparkSession.builder \\\n",
    "    .appName(\"Categorized Dataset Generation\") \\\n",
    "    .getOrCreate()\n",
    "\n",
    "# Load your dataset (adjust path as necessary)\n",
    "data = spark.read.csv(\"/Users/pallavmahajan/Downloads/DATA-228_Big_Data/Project/single_updated_amazon_apparel.csv/part-00000-7965547f-5f28-490d-8d29-eb821c97d76d-c000.csv\", header=True, inferSchema=True)\n",
    "\n",
    "# Define keywords for each category\n",
    "demographics_keywords = [\n",
    "    \"baby-g\", \"girls(s)\", \"momen\", \"baby-doll\", \"ladies\", \"toddler\", \"women's\", \"men’s\"\n",
    "    # Add more keywords for Demographics\n",
    "]\n",
    "\n",
    "apparel_keywords = [\n",
    "    \"shirt\", \"t-shirt\", \"jeans\", \"jacket\", \"dress\", \"skirt\", \"pants\", \"shorts\"\n",
    "    # Add more keywords for Apparel\n",
    "]\n",
    "\n",
    "irrelevant_keywords = [\n",
    "    \"travel\", \"jewelry\", \"newlywed\", \"toy\", \"book\"\n",
    "    # Add more keywords for Irrelevant\n",
    "]\n",
    "\n",
    "# Escape special characters in keywords to make them safe for regex\n",
    "demographics_keywords = [re.escape(keyword) for keyword in demographics_keywords]\n",
    "apparel_keywords = [re.escape(keyword) for keyword in apparel_keywords]\n",
    "irrelevant_keywords = [re.escape(keyword) for keyword in irrelevant_keywords]\n",
    "\n",
    "# Create regex patterns for each category\n",
    "demographics_condition = \"|\".join(demographics_keywords)\n",
    "apparel_condition = \"|\".join(apparel_keywords)\n",
    "irrelevant_condition = \"|\".join(irrelevant_keywords)\n",
    "\n",
    "# Add a new column for category based on conditions\n",
    "data = data.withColumn(\n",
    "    \"category\",\n",
    "    when(col(\"product_title\").rlike(demographics_condition), lit(\"Demographics\"))\n",
    "    .when(col(\"product_title\").rlike(apparel_condition), lit(\"Apparel\"))\n",
    "    .when(col(\"product_title\").rlike(irrelevant_condition), lit(\"Irrelevant\"))\n",
    "    .otherwise(lit(\"Other\"))\n",
    ")\n",
    "\n",
    "# Show a sample of the categorized data\n",
    "data.select(\"product_title\", \"category\").show(20, truncate=False)\n",
    "\n",
    "# Save the categorized dataset to a CSV file\n",
    "data.write.csv(\"categorized_dataset.csv\", header=True, mode=\"overwrite\")"
   ]
  },
  {
   "cell_type": "code",
   "execution_count": 42,
   "id": "1981c48f-1451-40dc-a5ea-7f762befd0ee",
   "metadata": {},
   "outputs": [
    {
     "name": "stderr",
     "output_type": "stream",
     "text": [
      "                                                                                \r"
     ]
    },
    {
     "name": "stdout",
     "output_type": "stream",
     "text": [
      "+-----------+-----------+--------------+----------+--------------+-------------------------------------------------------+----------------+-----------+-------------+-----------+----+-----------------+----------------------------------------------------------------------------------------------------+---------------------------------------------------------------------------------------------------------------------------------------------------------------------------------------------------------------------------------------------------------------------------------------------------------------------------------------------------------------------------------------------------------------------------------------------------------------------------------------------------------------------------------------------------------------------------------------------------------------------------------------------------------------------------------------------------------------------------------------------------------------------------------------------------------------------------------------------+-----------+-----------------+---------------+--------+\n",
      "|marketplace|customer_id|review_id     |product_id|product_parent|product_title                                          |product_category|star_rating|helpful_votes|total_votes|vine|verified_purchase|review_headline                                                                                     |review_body                                                                                                                                                                                                                                                                                                                                                                                                                                                                                                                                                                                                                                                                                                                                                                                                                                  |review_date|demographic_group|apparel_section|category|\n",
      "+-----------+-----------+--------------+----------+--------------+-------------------------------------------------------+----------------+-----------+-------------+-----------+----+-----------------+----------------------------------------------------------------------------------------------------+---------------------------------------------------------------------------------------------------------------------------------------------------------------------------------------------------------------------------------------------------------------------------------------------------------------------------------------------------------------------------------------------------------------------------------------------------------------------------------------------------------------------------------------------------------------------------------------------------------------------------------------------------------------------------------------------------------------------------------------------------------------------------------------------------------------------------------------------+-----------+-----------------+---------------+--------+\n",
      "|US         |48686191   |R1VRQDUB7QKB8P|B0045FY2LE|397687303     |Doublju Mens Wool Slim Double Breasted Half Trench Coat|Apparel         |5          |0            |0          |N   |Y                |best coat ever                                                                                      |I love this coat I got it for the winter time and it does a splendid job keeping me warm, I get a lot of compliments on it, if I wear it indoors it does get hot so I just take my arms out of the sleeves and wear it like a cape the shoulders on this coat wrap around my shoulders perfectly so it doesn't fall off.                                                                                                                                                                                                                                                                                                                                                                                                                                                                                                                     |2013-12-08 |Men              |Other          |Other   |\n",
      "|US         |18047379   |RPJ7PQHTNXDKY |B0045FY2LE|397687303     |Doublju Mens Wool Slim Double Breasted Half Trench Coat|Apparel         |5          |0            |0          |N   |Y                |... this as a gift and the recipient is extremely pleased. It feels a little heavy which I think ...|I purchased this as a gift and the recipient is extremely pleased. It feels a little heavy which I think gives it an essence of quality, while not making it uncomfortable.                                                                                                                                                                                                                                                                                                                                                                                                                                                                                                                                                                                                                                                                  |2015-02-08 |Men              |Other          |Other   |\n",
      "|US         |41175719   |R3M6TFOZ4SBPQZ|B0045FY2LE|397687303     |Doublju Mens Wool Slim Double Breasted Half Trench Coat|Apparel         |5          |0            |0          |N   |Y                |Nice!!!                                                                                             |The fit is great and the style is also really nice. This is the second pair of this trench coat I purchased because I liked the way the first one fits. It also does a good job keeping me warm.                                                                                                                                                                                                                                                                                                                                                                                                                                                                                                                                                                                                                                             |2014-12-27 |Men              |Other          |Other   |\n",
      "|US         |37862726   |R3BO9E2O34CCF2|B0045FY2LE|397687303     |Doublju Mens Wool Slim Double Breasted Half Trench Coat|Apparel         |5          |0            |0          |N   |Y                |GREAT PEA COAT                                                                                      |I WAS REALLY HAPPY WITH MY PURCHASE THE COAT WAS VERY GOOD QUALITY<br />AND IT FIT MY SON PERFECTLY. HE WAS VERY SATISFIED AS WELL, THE ORDER WAS<br />RECEIVED IN GOOD TIME.                                                                                                                                                                                                                                                                                                                                                                                                                                                                                                                                                                                                                                                                |2012-01-19 |Men              |Other          |Other   |\n",
      "|US         |1479729    |R2MA5VHY8GXQDH|B0045FY2LE|397687303     |Doublju Mens Wool Slim Double Breasted Half Trench Coat|Apparel         |1          |0            |0          |N   |N                |One Star                                                                                            |I tried to return it but nobody would help me, so a gave it to the Salvation Army!!!                                                                                                                                                                                                                                                                                                                                                                                                                                                                                                                                                                                                                                                                                                                                                         |2014-10-24 |Men              |Other          |Other   |\n",
      "|US         |24923580   |R1363FU5JVWBBD|B0045FY2LE|397687303     |Doublju Mens Wool Slim Double Breasted Half Trench Coat|Apparel         |3          |8            |10         |N   |Y                |nice jacket but a lie                                                                               |It says here that the jacket is 50% wool.<br />The manufacturer tag says that it's only 36% wool.<br />Again nice jacket,  but I don't like to be lied to.                                                                                                                                                                                                                                                                                                                                                                                                                                                                                                                                                                                                                                                                                   |2013-09-11 |Men              |Other          |Other   |\n",
      "|US         |50520856   |RY44I5C3BGKMF |B0045FY2LE|397687303     |Doublju Mens Wool Slim Double Breasted Half Trench Coat|Apparel         |4          |3            |4          |N   |Y                |Nice Jacket                                                                                         |just recieved mine in the mail..its a pretty comfortable jacket and looks very nice.. only thing i did not like was the picture shows the jacket tapered under the chest..the jacket i recieved was straight all the way<br />still happy with my purchase                                                                                                                                                                                                                                                                                                                                                                                                                                                                                                                                                                                   |2013-09-30 |Men              |Other          |Other   |\n",
      "|US         |415951     |R1NQUKIYQB2ZWJ|B0045FY2LE|397687303     |Doublju Mens Wool Slim Double Breasted Half Trench Coat|Apparel         |3          |0            |0          |N   |Y                |Three Stars                                                                                         |It smells kind of bad when I get it, and it is not thin enough,but it good quality                                                                                                                                                                                                                                                                                                                                                                                                                                                                                                                                                                                                                                                                                                                                                           |2015-02-10 |Men              |Other          |Other   |\n",
      "|US         |5487232    |RI03CPJPQSLX4 |B0045FY2LE|397687303     |Doublju Mens Wool Slim Double Breasted Half Trench Coat|Apparel         |4          |4            |7          |N   |Y                |Five Star Customer Service                                                                          |Received coat on time, but it was the wrong size. I mentioned this in my feedback to the company and they contacted me personally to solve my problem. In addition, the coats don't fit like pictured. The waist doesn't taper in like the classic pea coat look. I'm 5'11\\\\\" 145 lbs and the Korean medium was too big. A Korean small probably would have fit perfectly.                                                                                                                                                                                                                                                                                                                                                                                                                                                                   |2013-02-11 |Men              |Other          |Other   |\n",
      "|US         |9968503    |R1H25AGDPQ4WG0|B0045FY2LE|397687303     |Doublju Mens Wool Slim Double Breasted Half Trench Coat|Apparel         |5          |0            |0          |N   |Y                |worth every penny                                                                                   |I purchased the medium (small) size of this jacket as a 5'5\\\\\" 125 lb athletic-build guy.  I had to get it tailored around the waist to slim it down a bit.  It added a bit more to the \\\\\"total\\\\\" price, but it was well worth it.  I received at least 5 compliments on how nice it looked the first day I wore it to work and still have people commenting on it all the time.  This coat is SNAZZY.  It's also quite well-made, I didn't find too many hanging threads or loose buttons or anything.  As said in other comments, just about everything around the shoulders is just for show.  Lastly, some say it isn't all that warm, which is somewhat true (it's only a tad thicker than a typical suit jacket), but throw a nice scarf around your neck and you will not only be super-warm, but look fantastically dapper as well!|2012-03-04 |Men              |Other          |Other   |\n",
      "|US         |44739258   |R1JB5T2VBU6GP9|B0045FY2LE|397687303     |Doublju Mens Wool Slim Double Breasted Half Trench Coat|Apparel         |5          |5            |6          |N   |Y                |Perfect jacket                                                                                      |I ordered a small, I'm 5'11 weighing about 150 lbs.  It fits perfectly!!  I live near Pittsburgh so the winter temperatures range between 5-40 degrees Fahrenheit.  The jacket is warm enough, even through really windy weather. Couldn't have asked for a better jacket. Oh, and it also shipped in about a week and a half.                                                                                                                                                                                                                                                                                                                                                                                                                                                                                                               |2013-12-20 |Men              |Other          |Other   |\n",
      "|US         |28260480   |R1GTT223L0XJJU|B0045FY2LE|397687303     |Doublju Mens Wool Slim Double Breasted Half Trench Coat|Apparel         |5          |4            |6          |N   |Y                |Looks sharp, fits perfect                                                                           |I must say I love this coat, I bought this coat because my old one was too big. I'm 5'10\\\\\" and 130 pounds and ordered size US Small. I was nervous at first because i thought it might be too small for me, but it fit my body type perfectly (as I am slender). I now look more professional coming into work and get noticed more. It also keeps me very warm during the winter.                                                                                                                                                                                                                                                                                                                                                                                                                                                          |2013-09-20 |Men              |Other          |Other   |\n",
      "|US         |2352378    |RSHD9B5OY8QJA |B0045FY2LE|397687303     |Doublju Mens Wool Slim Double Breasted Half Trench Coat|Apparel         |5          |0            |0          |N   |Y                |Great product                                                                                       |Perfectly fits me, great quality and looks classy.                                                                                                                                                                                                                                                                                                                                                                                                                                                                                                                                                                                                                                                                                                                                                                                           |2015-02-09 |Men              |Other          |Other   |\n",
      "|US         |18719781   |R2U2SSKGX3CW9P|B0045FY2LE|397687303     |Doublju Mens Wool Slim Double Breasted Half Trench Coat|Apparel         |3          |0            |0          |N   |Y                |but pockets ripped and buttons fall off somewhat easily. Worth it                                   |Cheap yes, but pockets ripped and buttons fall off somewhat easily.  Worth it... Maybe...                                                                                                                                                                                                                                                                                                                                                                                                                                                                                                                                                                                                                                                                                                                                                    |2014-12-14 |Men              |Other          |Other   |\n",
      "|US         |12050036   |R1RB4M29S0AC8X|B0045FY2LE|397687303     |Doublju Mens Wool Slim Double Breasted Half Trench Coat|Apparel         |5          |0            |1          |N   |N                |Five Stars                                                                                          |really like it perfect fit                                                                                                                                                                                                                                                                                                                                                                                                                                                                                                                                                                                                                                                                                                                                                                                                                   |2014-09-14 |Men              |Other          |Other   |\n",
      "|US         |7719114    |R2PNGAZDMHMUTQ|B0045FY2LE|397687303     |Doublju Mens Wool Slim Double Breasted Half Trench Coat|Apparel         |2          |0            |0          |N   |Y                |Very Cheap Material                                                                                 |Looks amazing in picture, but company used very cheap material to make it. The only good thing is that it fit as expected.                                                                                                                                                                                                                                                                                                                                                                                                                                                                                                                                                                                                                                                                                                                   |2015-01-09 |Men              |Other          |Other   |\n",
      "|US         |936177     |R39S5RMT1RRYYZ|B0045FY2LE|397687303     |Doublju Mens Wool Slim Double Breasted Half Trench Coat|Apparel         |5          |11           |13         |N   |Y                |Awesome  :)                                                                                         |Ok people, I'm 5'6, 175 pounds and body type slim. I bought the US small size and it fits awesome, I love this coat. Although the coat is a little itchy, of course the coat is new, but worth it  :) here are some photos                                                                                                                                                                                                                                                                                                                                                                                                                                                                                                                                                                                                                   |2015-02-07 |Men              |Other          |Other   |\n",
      "|US         |42302667   |R3COEQTSU82VAE|B0045FY2LE|397687303     |Doublju Mens Wool Slim Double Breasted Half Trench Coat|Apparel         |5          |1            |3          |N   |Y                |Great coat                                                                                          |Fits perfectly. I get a lot of compliments on the coat and it goes with all of my outfits. Really a recommended product.                                                                                                                                                                                                                                                                                                                                                                                                                                                                                                                                                                                                                                                                                                                     |2011-12-19 |Men              |Other          |Other   |\n",
      "|US         |42085218   |R11LE0KX0UDTWR|B0045FY2LE|397687303     |Doublju Mens Wool Slim Double Breasted Half Trench Coat|Apparel         |5          |0            |1          |N   |Y                |I love it                                                                                           |Totally pimp, I look forward to purchasing more of there products. It looks great. It fits very well. Awesome deal                                                                                                                                                                                                                                                                                                                                                                                                                                                                                                                                                                                                                                                                                                                           |2013-04-28 |Men              |Other          |Other   |\n",
      "|US         |438270     |R1CCS0JXPYHJ2U|B0045FY2LE|397687303     |Doublju Mens Wool Slim Double Breasted Half Trench Coat|Apparel         |2          |0            |1          |N   |Y                |Two Stars                                                                                           |To small and tight on the shoulders                                                                                                                                                                                                                                                                                                                                                                                                                                                                                                                                                                                                                                                                                                                                                                                                          |2015-02-20 |Men              |Other          |Other   |\n",
      "+-----------+-----------+--------------+----------+--------------+-------------------------------------------------------+----------------+-----------+-------------+-----------+----+-----------------+----------------------------------------------------------------------------------------------------+---------------------------------------------------------------------------------------------------------------------------------------------------------------------------------------------------------------------------------------------------------------------------------------------------------------------------------------------------------------------------------------------------------------------------------------------------------------------------------------------------------------------------------------------------------------------------------------------------------------------------------------------------------------------------------------------------------------------------------------------------------------------------------------------------------------------------------------------+-----------+-----------------+---------------+--------+\n",
      "only showing top 20 rows\n",
      "\n"
     ]
    },
    {
     "name": "stderr",
     "output_type": "stream",
     "text": [
      "                                                                                \r"
     ]
    }
   ],
   "source": [
    "from pyspark.sql import SparkSession\n",
    "\n",
    "# Initialize Spark session\n",
    "spark = SparkSession.builder \\\n",
    "    .appName(\"Combine CSV Files\") \\\n",
    "    .getOrCreate()\n",
    "\n",
    "# Define the folder path where all CSV chunks are saved\n",
    "folder_path = \"/Users/pallavmahajan/Downloads/DATA-228_Big_Data/Project/categorized_dataset.csv\"\n",
    "\n",
    "# Read all CSV files in the folder into a single DataFrame\n",
    "combined_data = spark.read.csv(folder_path, header=True, inferSchema=True)\n",
    "\n",
    "# Show the combined data\n",
    "combined_data.show(20, truncate=False)\n",
    "\n",
    "# Save the combined DataFrame as a single CSV file\n",
    "combined_data.write.csv(\"combined_dataset.csv\", header=True, mode=\"overwrite\")"
   ]
  },
  {
   "cell_type": "code",
   "execution_count": 44,
   "id": "3a66e752-cc6e-49e1-aab9-c8c72ea57786",
   "metadata": {},
   "outputs": [],
   "source": [
    "import os\n",
    "\n",
    "write_path = \"/Users/pallavmahajan/Downloads/DATA-228_Big_Data/Project/\"\n",
    "if not os.path.exists(write_path):\n",
    "    os.makedirs(write_path)"
   ]
  },
  {
   "cell_type": "code",
   "execution_count": 45,
   "id": "0f230d4c-5e50-4227-8984-88e7e6e9b761",
   "metadata": {},
   "outputs": [
    {
     "ename": "IndexError",
     "evalue": "list index out of range",
     "output_type": "error",
     "traceback": [
      "\u001b[0;31m---------------------------------------------------------------------------\u001b[0m",
      "\u001b[0;31mIndexError\u001b[0m                                Traceback (most recent call last)",
      "Cell \u001b[0;32mIn[45], line 8\u001b[0m\n\u001b[1;32m      5\u001b[0m final_file \u001b[38;5;241m=\u001b[39m \u001b[38;5;124m\"\u001b[39m\u001b[38;5;124m/Users/pallavmahajan/Downloads/DATA-228_Big_Data/Project/final_combined_dataset.csv\u001b[39m\u001b[38;5;124m\"\u001b[39m\n\u001b[1;32m      7\u001b[0m \u001b[38;5;66;03m# Get the part file from the directory\u001b[39;00m\n\u001b[0;32m----> 8\u001b[0m part_file \u001b[38;5;241m=\u001b[39m \u001b[43mglob\u001b[49m\u001b[38;5;241;43m.\u001b[39;49m\u001b[43mglob\u001b[49m\u001b[43m(\u001b[49m\u001b[43moutput_path\u001b[49m\u001b[43m \u001b[49m\u001b[38;5;241;43m+\u001b[39;49m\u001b[43m \u001b[49m\u001b[38;5;124;43m\"\u001b[39;49m\u001b[38;5;124;43m/part-*\u001b[39;49m\u001b[38;5;124;43m\"\u001b[39;49m\u001b[43m)\u001b[49m\u001b[43m[\u001b[49m\u001b[38;5;241;43m0\u001b[39;49m\u001b[43m]\u001b[49m\n\u001b[1;32m     10\u001b[0m \u001b[38;5;66;03m# Rename part file to desired output file\u001b[39;00m\n\u001b[1;32m     11\u001b[0m shutil\u001b[38;5;241m.\u001b[39mmove(part_file, final_file)\n",
      "\u001b[0;31mIndexError\u001b[0m: list index out of range"
     ]
    }
   ],
   "source": [
    "import shutil\n",
    "import glob\n",
    "\n",
    "output_path = \"/Users/pallavmahajan/Downloads/DATA-228_Big_Data/Project/combined_dataset\"\n",
    "final_file = \"/Users/pallavmahajan/Downloads/DATA-228_Big_Data/Project/final_combined_dataset.csv\"\n",
    "\n",
    "# Get the part file from the directory\n",
    "part_file = glob.glob(output_path + \"/part-*\")[0]\n",
    "\n",
    "# Rename part file to desired output file\n",
    "shutil.move(part_file, final_file)\n",
    "\n",
    "# Remove the directory created by PySpark\n",
    "shutil.rmtree(output_path)\n",
    "\n",
    "print(f\"Combined CSV saved as {final_file}\")\n"
   ]
  },
  {
   "cell_type": "code",
   "execution_count": 47,
   "id": "bff0e037-3d50-44a3-a587-41596c84c8a5",
   "metadata": {},
   "outputs": [
    {
     "name": "stdout",
     "output_type": "stream",
     "text": [
      "Directory exists: True\n",
      "Files in directory: ['.part-00010-efb30cd2-8173-4e1a-991a-27e7f87ba8a1-c000.csv.crc', 'part-00012-efb30cd2-8173-4e1a-991a-27e7f87ba8a1-c000.csv', 'part-00009-efb30cd2-8173-4e1a-991a-27e7f87ba8a1-c000.csv', '.part-00011-efb30cd2-8173-4e1a-991a-27e7f87ba8a1-c000.csv.crc', 'part-00005-efb30cd2-8173-4e1a-991a-27e7f87ba8a1-c000.csv', 'part-00013-efb30cd2-8173-4e1a-991a-27e7f87ba8a1-c000.csv', '.part-00013-efb30cd2-8173-4e1a-991a-27e7f87ba8a1-c000.csv.crc', '.part-00008-efb30cd2-8173-4e1a-991a-27e7f87ba8a1-c000.csv.crc', '.part-00012-efb30cd2-8173-4e1a-991a-27e7f87ba8a1-c000.csv.crc', '.part-00009-efb30cd2-8173-4e1a-991a-27e7f87ba8a1-c000.csv.crc', 'part-00008-efb30cd2-8173-4e1a-991a-27e7f87ba8a1-c000.csv', 'part-00004-efb30cd2-8173-4e1a-991a-27e7f87ba8a1-c000.csv', '.part-00005-efb30cd2-8173-4e1a-991a-27e7f87ba8a1-c000.csv.crc', 'part-00010-efb30cd2-8173-4e1a-991a-27e7f87ba8a1-c000.csv', '._SUCCESS.crc', 'part-00007-efb30cd2-8173-4e1a-991a-27e7f87ba8a1-c000.csv', '.part-00004-efb30cd2-8173-4e1a-991a-27e7f87ba8a1-c000.csv.crc', 'part-00011-efb30cd2-8173-4e1a-991a-27e7f87ba8a1-c000.csv', '.part-00006-efb30cd2-8173-4e1a-991a-27e7f87ba8a1-c000.csv.crc', '.part-00007-efb30cd2-8173-4e1a-991a-27e7f87ba8a1-c000.csv.crc', 'part-00006-efb30cd2-8173-4e1a-991a-27e7f87ba8a1-c000.csv', '.part-00000-efb30cd2-8173-4e1a-991a-27e7f87ba8a1-c000.csv.crc', 'part-00001-efb30cd2-8173-4e1a-991a-27e7f87ba8a1-c000.csv', '.part-00001-efb30cd2-8173-4e1a-991a-27e7f87ba8a1-c000.csv.crc', 'part-00016-efb30cd2-8173-4e1a-991a-27e7f87ba8a1-c000.csv', '.part-00003-efb30cd2-8173-4e1a-991a-27e7f87ba8a1-c000.csv.crc', 'part-00000-efb30cd2-8173-4e1a-991a-27e7f87ba8a1-c000.csv', '.part-00002-efb30cd2-8173-4e1a-991a-27e7f87ba8a1-c000.csv.crc', 'part-00003-efb30cd2-8173-4e1a-991a-27e7f87ba8a1-c000.csv', '_SUCCESS', '.part-00015-efb30cd2-8173-4e1a-991a-27e7f87ba8a1-c000.csv.crc', 'part-00014-efb30cd2-8173-4e1a-991a-27e7f87ba8a1-c000.csv', '.part-00014-efb30cd2-8173-4e1a-991a-27e7f87ba8a1-c000.csv.crc', '.part-00016-efb30cd2-8173-4e1a-991a-27e7f87ba8a1-c000.csv.crc', 'part-00002-efb30cd2-8173-4e1a-991a-27e7f87ba8a1-c000.csv', 'part-00015-efb30cd2-8173-4e1a-991a-27e7f87ba8a1-c000.csv']\n"
     ]
    }
   ],
   "source": [
    "import os\n",
    "\n",
    "output_path = \"/Users/pallavmahajan/Downloads/DATA-228_Big_Data/Project/combined_dataset.csv\"\n",
    "print(\"Directory exists:\", os.path.exists(output_path))\n",
    "print(\"Files in directory:\", os.listdir(output_path))\n"
   ]
  },
  {
   "cell_type": "code",
   "execution_count": 48,
   "id": "792d1c87-1314-49ea-8f36-d31ff8edb6fa",
   "metadata": {},
   "outputs": [
    {
     "name": "stderr",
     "output_type": "stream",
     "text": [
      "[Stage 49:>                                                         (0 + 1) / 1]\r"
     ]
    },
    {
     "name": "stdout",
     "output_type": "stream",
     "text": [
      "Combined single CSV saved successfully!\n"
     ]
    },
    {
     "name": "stderr",
     "output_type": "stream",
     "text": [
      "                                                                                \r"
     ]
    }
   ],
   "source": [
    "# Combine all partitions into one\n",
    "data.coalesce(1).write.csv(\n",
    "    \"/Users/pallavmahajan/Downloads/DATA-228_Big_Data/Project/combined_dataset.csv\",\n",
    "    header=True,\n",
    "    mode=\"overwrite\"\n",
    ")\n",
    "\n",
    "print(\"Combined single CSV saved successfully!\")\n"
   ]
  },
  {
   "cell_type": "code",
   "execution_count": 49,
   "id": "a1d70ef1-f043-4f58-b1ab-fdbdef3b4652",
   "metadata": {},
   "outputs": [
    {
     "name": "stdout",
     "output_type": "stream",
     "text": [
      "Part files found: ['/Users/pallavmahajan/Downloads/DATA-228_Big_Data/Project/combined_dataset.csv/part-00000-1a4d93bd-865a-4f44-bda2-63018020065b-c000.csv']\n"
     ]
    }
   ],
   "source": [
    "import glob\n",
    "\n",
    "# List all part files in the directory\n",
    "part_files = glob.glob(output_path + \"/part-*\")\n",
    "print(\"Part files found:\", part_files)\n",
    "\n",
    "# Check if any part files are found\n",
    "if len(part_files) == 0:\n",
    "    raise FileNotFoundError(\"No part-* files found in the specified output directory.\")"
   ]
  },
  {
   "cell_type": "code",
   "execution_count": 50,
   "id": "d9296694-e45e-4abe-a39d-6cf1615efc9b",
   "metadata": {},
   "outputs": [
    {
     "name": "stdout",
     "output_type": "stream",
     "text": [
      "Combined CSV saved as /Users/pallavmahajan/Downloads/DATA-228_Big_Data/Project/final_combined_dataset.csv\n"
     ]
    }
   ],
   "source": [
    "import shutil\n",
    "\n",
    "final_file = \"/Users/pallavmahajan/Downloads/DATA-228_Big_Data/Project/final_combined_dataset.csv\"\n",
    "\n",
    "# Rename the first part file to the final combined file name\n",
    "shutil.move(part_files[0], final_file)\n",
    "\n",
    "# Remove the output directory\n",
    "shutil.rmtree(output_path)\n",
    "\n",
    "print(f\"Combined CSV saved as {final_file}\")"
   ]
  },
  {
   "cell_type": "code",
   "execution_count": 51,
   "id": "fd214866-2b5e-4d20-b297-ea444a46a8d8",
   "metadata": {},
   "outputs": [
    {
     "name": "stderr",
     "output_type": "stream",
     "text": [
      "                                                                                \r"
     ]
    },
    {
     "name": "stdout",
     "output_type": "stream",
     "text": [
      "root\n",
      " |-- marketplace: string (nullable = true)\n",
      " |-- customer_id: integer (nullable = true)\n",
      " |-- review_id: string (nullable = true)\n",
      " |-- product_id: string (nullable = true)\n",
      " |-- product_parent: integer (nullable = true)\n",
      " |-- product_title: string (nullable = true)\n",
      " |-- product_category: string (nullable = true)\n",
      " |-- star_rating: integer (nullable = true)\n",
      " |-- helpful_votes: integer (nullable = true)\n",
      " |-- total_votes: integer (nullable = true)\n",
      " |-- vine: string (nullable = true)\n",
      " |-- verified_purchase: string (nullable = true)\n",
      " |-- review_headline: string (nullable = true)\n",
      " |-- review_body: string (nullable = true)\n",
      " |-- review_date: date (nullable = true)\n",
      " |-- demographic_group: string (nullable = true)\n",
      " |-- apparel_section: string (nullable = true)\n",
      " |-- category: string (nullable = true)\n",
      "\n",
      "+-----------+-----------+--------------+----------+--------------+--------------------+----------------+-----------+-------------+-----------+----+-----------------+--------------------+--------------------+-----------+-----------------+---------------+--------+\n",
      "|marketplace|customer_id|     review_id|product_id|product_parent|       product_title|product_category|star_rating|helpful_votes|total_votes|vine|verified_purchase|     review_headline|         review_body|review_date|demographic_group|apparel_section|category|\n",
      "+-----------+-----------+--------------+----------+--------------+--------------------+----------------+-----------+-------------+-----------+----+-----------------+--------------------+--------------------+-----------+-----------------+---------------+--------+\n",
      "|         US|   32158956|R1KKOXHNI8MSXU|B01KL6O72Y|      24485154|Easy Tool Stainle...|         Apparel|          4|            0|          0|   N|                Y|★ THESE REALLY DO...|These Really Do W...| 2013-01-14|    Uncategorized|          Other|   Other|\n",
      "|         US|    2714559|R26SP2OPDK4HT7|B01ID3ZS5W|     363128556|V28 Women Cowl Ne...|         Apparel|          5|            1|          2|   N|                Y|Favorite for wint...|I love this dress...| 2014-03-04|            Women|          Other|   Other|\n",
      "|         US|   12608825| RWQEDYAX373I1|B01I497BGY|     811958549|James Fiallo Men'...|         Apparel|          5|            0|          0|   N|                Y|Great Socks for t...|Nice socks, great...| 2015-07-12|              Men|          Other|   Other|\n",
      "|         US|   25482800|R231YI7R4GPF6J|B01HDXFZK6|     692205728|Belfry Gangster 1...|         Apparel|          5|            0|          0|   N|                Y|          Slick hat!|I bought this for...| 2015-06-03|    Uncategorized|          Other|   Other|\n",
      "|         US|    9310286|R3KO3W45DD0L1K|B01G6MBEBY|     431150422|JAEDEN Women's Be...|         Apparel|          5|            0|          0|   N|                Y|I would do it again!|Perfect dress and...| 2015-06-12|            Women|          Other|   Other|\n",
      "+-----------+-----------+--------------+----------+--------------+--------------------+----------------+-----------+-------------+-----------+----+-----------------+--------------------+--------------------+-----------+-----------------+---------------+--------+\n",
      "only showing top 5 rows\n",
      "\n"
     ]
    }
   ],
   "source": [
    "data = spark.read.csv(\"final_combined_dataset.csv\", header=True, inferSchema=True)\n",
    "data.printSchema()\n",
    "data.show(5)"
   ]
  },
  {
   "cell_type": "code",
   "execution_count": 52,
   "id": "7a771bd6-22e2-47ec-9c2d-8b2b98e1c56a",
   "metadata": {},
   "outputs": [],
   "source": [
    "apparel_data = data.filter(data[\"category\"] == \"Apparel\")"
   ]
  },
  {
   "cell_type": "code",
   "execution_count": 53,
   "id": "21f6db45-992c-40e7-9db8-25bcf6c819d0",
   "metadata": {},
   "outputs": [
    {
     "name": "stderr",
     "output_type": "stream",
     "text": [
      "                                                                                \r"
     ]
    }
   ],
   "source": [
    "from pyspark.ml.feature import StringIndexer\n",
    "\n",
    "indexer = StringIndexer(inputCol=\"product_id\", outputCol=\"product_index\")\n",
    "apparel_data = indexer.fit(apparel_data).transform(apparel_data)"
   ]
  },
  {
   "cell_type": "code",
   "execution_count": 54,
   "id": "1ee7d68c-199f-4ae1-8d5e-7d7cdb6f7017",
   "metadata": {},
   "outputs": [
    {
     "name": "stderr",
     "output_type": "stream",
     "text": [
      "                                                                                \r"
     ]
    },
    {
     "name": "stdout",
     "output_type": "stream",
     "text": [
      "Training data count: 4725721\n"
     ]
    },
    {
     "name": "stderr",
     "output_type": "stream",
     "text": [
      "[Stage 59:==========================================>             (12 + 4) / 16]\r"
     ]
    },
    {
     "name": "stdout",
     "output_type": "stream",
     "text": [
      "Testing data count: 1180612\n"
     ]
    },
    {
     "name": "stderr",
     "output_type": "stream",
     "text": [
      "                                                                                \r"
     ]
    }
   ],
   "source": [
    "# Split the data into training (80%) and testing (20%) datasets\n",
    "train_data, test_data = data.randomSplit([0.8, 0.2], seed=42)\n",
    "\n",
    "print(f\"Training data count: {train_data.count()}\")\n",
    "print(f\"Testing data count: {test_data.count()}\")"
   ]
  },
  {
   "cell_type": "code",
   "execution_count": null,
   "id": "8405c5e6-3b83-4345-8c77-3a785d5fd280",
   "metadata": {},
   "outputs": [],
   "source": []
  }
 ],
 "metadata": {
  "kernelspec": {
   "display_name": "PySpark_env",
   "language": "python",
   "name": "pyspark_env"
  },
  "language_info": {
   "codemirror_mode": {
    "name": "ipython",
    "version": 3
   },
   "file_extension": ".py",
   "mimetype": "text/x-python",
   "name": "python",
   "nbconvert_exporter": "python",
   "pygments_lexer": "ipython3",
   "version": "3.9.18"
  }
 },
 "nbformat": 4,
 "nbformat_minor": 5
}
